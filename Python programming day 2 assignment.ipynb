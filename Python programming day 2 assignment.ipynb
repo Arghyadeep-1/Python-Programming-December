{
  "nbformat": 4,
  "nbformat_minor": 0,
  "metadata": {
    "kernelspec": {
      "display_name": "Python 3",
      "language": "python",
      "name": "python3"
    },
    "language_info": {
      "codemirror_mode": {
        "name": "ipython",
        "version": 3
      },
      "file_extension": ".py",
      "mimetype": "text/x-python",
      "name": "python",
      "nbconvert_exporter": "python",
      "pygments_lexer": "ipython3",
      "version": "3.8.5"
    },
    "colab": {
      "name": "Python programming day 2 assignment.ipynb",
      "provenance": []
    }
  },
  "cells": [
    {
      "cell_type": "markdown",
      "metadata": {
        "id": "vx50Su_IZPqY"
      },
      "source": [
        "# Assignment Day 2"
      ]
    },
    {
      "cell_type": "markdown",
      "metadata": {
        "id": "X-o34t2KZPqn"
      },
      "source": [
        "# Que 1-> 5 different functions of strings"
      ]
    },
    {
      "cell_type": "code",
      "metadata": {
        "id": "_WD2YD-iZPqp"
      },
      "source": [
        "name = \"ARGHYADEEP DEBNATH\"\n",
        "dept = \"ECE\"\n",
        "string = \"*\""
      ],
      "execution_count": 33,
      "outputs": []
    },
    {
      "cell_type": "code",
      "metadata": {
        "colab": {
          "base_uri": "https://localhost:8080/",
          "height": 35
        },
        "id": "6hRZOcbWZPqq",
        "outputId": "2018cb88-2a45-4d1d-c96f-87375371b9f9"
      },
      "source": [
        "name.upper()"
      ],
      "execution_count": 34,
      "outputs": [
        {
          "output_type": "execute_result",
          "data": {
            "application/vnd.google.colaboratory.intrinsic+json": {
              "type": "string"
            },
            "text/plain": [
              "'ARGHYADEEP DEBNATH'"
            ]
          },
          "metadata": {
            "tags": []
          },
          "execution_count": 34
        }
      ]
    },
    {
      "cell_type": "code",
      "metadata": {
        "colab": {
          "base_uri": "https://localhost:8080/",
          "height": 35
        },
        "id": "GyXI7d9vZPqs",
        "outputId": "aa610da1-2f05-48b3-d0ec-9f9f7aaf06b6"
      },
      "source": [
        "dept.lower()"
      ],
      "execution_count": 35,
      "outputs": [
        {
          "output_type": "execute_result",
          "data": {
            "application/vnd.google.colaboratory.intrinsic+json": {
              "type": "string"
            },
            "text/plain": [
              "'ece'"
            ]
          },
          "metadata": {
            "tags": []
          },
          "execution_count": 35
        }
      ]
    },
    {
      "cell_type": "code",
      "metadata": {
        "colab": {
          "base_uri": "https://localhost:8080/",
          "height": 35
        },
        "id": "LmiISCB4ZPqu",
        "outputId": "4ced8161-fc5a-4cf5-aaf5-87e5875e823f"
      },
      "source": [
        "name +\" \"+ dept"
      ],
      "execution_count": 36,
      "outputs": [
        {
          "output_type": "execute_result",
          "data": {
            "application/vnd.google.colaboratory.intrinsic+json": {
              "type": "string"
            },
            "text/plain": [
              "'ARGHYADEEP DEBNATH ECE'"
            ]
          },
          "metadata": {
            "tags": []
          },
          "execution_count": 36
        }
      ]
    },
    {
      "cell_type": "code",
      "metadata": {
        "colab": {
          "base_uri": "https://localhost:8080/",
          "height": 35
        },
        "id": "UGIz8pi0ZPqu",
        "outputId": "b4ea8eb8-90f0-47b3-8824-6d9c1ac19eba"
      },
      "source": [
        "name.capitalize()"
      ],
      "execution_count": 37,
      "outputs": [
        {
          "output_type": "execute_result",
          "data": {
            "application/vnd.google.colaboratory.intrinsic+json": {
              "type": "string"
            },
            "text/plain": [
              "'Arghyadeep debnath'"
            ]
          },
          "metadata": {
            "tags": []
          },
          "execution_count": 37
        }
      ]
    },
    {
      "cell_type": "code",
      "metadata": {
        "colab": {
          "base_uri": "https://localhost:8080/",
          "height": 35
        },
        "id": "_xSBeI1qZPqv",
        "outputId": "45fd876e-a336-42fb-d206-a8dd662b7ecf"
      },
      "source": [
        "string.join(name)"
      ],
      "execution_count": 38,
      "outputs": [
        {
          "output_type": "execute_result",
          "data": {
            "application/vnd.google.colaboratory.intrinsic+json": {
              "type": "string"
            },
            "text/plain": [
              "'A*R*G*H*Y*A*D*E*E*P* *D*E*B*N*A*T*H'"
            ]
          },
          "metadata": {
            "tags": []
          },
          "execution_count": 38
        }
      ]
    },
    {
      "cell_type": "code",
      "metadata": {
        "colab": {
          "base_uri": "https://localhost:8080/"
        },
        "id": "tt5Shu1mZPqv",
        "outputId": "b0494923-ca5a-43a3-8fc0-658bdc4a7ede"
      },
      "source": [
        "name.split()"
      ],
      "execution_count": 39,
      "outputs": [
        {
          "output_type": "execute_result",
          "data": {
            "text/plain": [
              "['ARGHYADEEP', 'DEBNATH']"
            ]
          },
          "metadata": {
            "tags": []
          },
          "execution_count": 39
        }
      ]
    },
    {
      "cell_type": "markdown",
      "metadata": {
        "id": "ZCbGBiuYZPqw"
      },
      "source": [
        "# Que 2-> 5 different functions of list"
      ]
    },
    {
      "cell_type": "code",
      "metadata": {
        "id": "i5LLYKBfZPqw"
      },
      "source": [
        "lst = [1,2,3,4,5,\"ashish\",\"shweta\",6.6,9.9]"
      ],
      "execution_count": 40,
      "outputs": []
    },
    {
      "cell_type": "code",
      "metadata": {
        "colab": {
          "base_uri": "https://localhost:8080/"
        },
        "id": "BLJQNcP5ZPqx",
        "outputId": "896a6a1c-60ee-4b4c-eca7-d8d2b46361c9"
      },
      "source": [
        "lst"
      ],
      "execution_count": 41,
      "outputs": [
        {
          "output_type": "execute_result",
          "data": {
            "text/plain": [
              "[1, 2, 3, 4, 5, 'ashish', 'shweta', 6.6, 9.9]"
            ]
          },
          "metadata": {
            "tags": []
          },
          "execution_count": 41
        }
      ]
    },
    {
      "cell_type": "code",
      "metadata": {
        "id": "EEp4okUNZPqx"
      },
      "source": [
        "lst.append(\"endgame\")"
      ],
      "execution_count": 42,
      "outputs": []
    },
    {
      "cell_type": "code",
      "metadata": {
        "colab": {
          "base_uri": "https://localhost:8080/"
        },
        "id": "pf2yXFIqZPqy",
        "outputId": "056872fb-453c-48c7-b99c-386db5d02a62"
      },
      "source": [
        "lst"
      ],
      "execution_count": 43,
      "outputs": [
        {
          "output_type": "execute_result",
          "data": {
            "text/plain": [
              "[1, 2, 3, 4, 5, 'ashish', 'shweta', 6.6, 9.9, 'endgame']"
            ]
          },
          "metadata": {
            "tags": []
          },
          "execution_count": 43
        }
      ]
    },
    {
      "cell_type": "code",
      "metadata": {
        "id": "KTQ9KCGFZPqy"
      },
      "source": [
        "lst.insert(2,5.5)"
      ],
      "execution_count": 44,
      "outputs": []
    },
    {
      "cell_type": "code",
      "metadata": {
        "colab": {
          "base_uri": "https://localhost:8080/"
        },
        "id": "CXrda1M7ZPqz",
        "outputId": "235c24ca-d6cc-4398-eb3b-34c80c3b2342"
      },
      "source": [
        "lst"
      ],
      "execution_count": 45,
      "outputs": [
        {
          "output_type": "execute_result",
          "data": {
            "text/plain": [
              "[1, 2, 5.5, 3, 4, 5, 'ashish', 'shweta', 6.6, 9.9, 'endgame']"
            ]
          },
          "metadata": {
            "tags": []
          },
          "execution_count": 45
        }
      ]
    },
    {
      "cell_type": "code",
      "metadata": {
        "id": "7hwptWVLZPqz"
      },
      "source": [
        "lst.remove(5)"
      ],
      "execution_count": 46,
      "outputs": []
    },
    {
      "cell_type": "code",
      "metadata": {
        "colab": {
          "base_uri": "https://localhost:8080/"
        },
        "id": "fu_CVL1dZPqz",
        "outputId": "fa7e9444-17cd-4718-d7f7-1ba8d281b8f9"
      },
      "source": [
        "lst"
      ],
      "execution_count": 47,
      "outputs": [
        {
          "output_type": "execute_result",
          "data": {
            "text/plain": [
              "[1, 2, 5.5, 3, 4, 'ashish', 'shweta', 6.6, 9.9, 'endgame']"
            ]
          },
          "metadata": {
            "tags": []
          },
          "execution_count": 47
        }
      ]
    },
    {
      "cell_type": "code",
      "metadata": {
        "id": "IqudgHjSZPq0"
      },
      "source": [
        "lst.reverse()"
      ],
      "execution_count": 48,
      "outputs": []
    },
    {
      "cell_type": "code",
      "metadata": {
        "colab": {
          "base_uri": "https://localhost:8080/"
        },
        "id": "Rr6GCkVzZPq0",
        "outputId": "7b9adfc7-7350-484b-c64d-3f7408a43690"
      },
      "source": [
        "lst"
      ],
      "execution_count": 49,
      "outputs": [
        {
          "output_type": "execute_result",
          "data": {
            "text/plain": [
              "['endgame', 9.9, 6.6, 'shweta', 'ashish', 4, 3, 5.5, 2, 1]"
            ]
          },
          "metadata": {
            "tags": []
          },
          "execution_count": 49
        }
      ]
    },
    {
      "cell_type": "code",
      "metadata": {
        "id": "eWbwc-DCZPq1"
      },
      "source": [
        "lst.clear()"
      ],
      "execution_count": 50,
      "outputs": []
    },
    {
      "cell_type": "code",
      "metadata": {
        "colab": {
          "base_uri": "https://localhost:8080/"
        },
        "id": "HwlwFaAQZPq1",
        "outputId": "55751ae9-0153-4948-bb7d-076ba4689408"
      },
      "source": [
        "lst"
      ],
      "execution_count": 51,
      "outputs": [
        {
          "output_type": "execute_result",
          "data": {
            "text/plain": [
              "[]"
            ]
          },
          "metadata": {
            "tags": []
          },
          "execution_count": 51
        }
      ]
    },
    {
      "cell_type": "markdown",
      "metadata": {
        "id": "PSnLR-DKZPq1"
      },
      "source": [
        "# Que 3-> 5 different functions of dictionary"
      ]
    },
    {
      "cell_type": "code",
      "metadata": {
        "id": "o6ukMXjmZPq2"
      },
      "source": [
        "dit = {\"key\":\"value\", \"key1\":1.1, \"key2\":2.2, \"key3\":3.3, \"key4\":4.4}\n",
        "ditrcd = {\"Name\":\"Arghyadeep\", \"age\":21, \"email\":\"text.arghyadeep@gmail.com\"}"
      ],
      "execution_count": 52,
      "outputs": []
    },
    {
      "cell_type": "code",
      "metadata": {
        "colab": {
          "base_uri": "https://localhost:8080/"
        },
        "id": "fxxC6WHIZPq2",
        "outputId": "b3ae544b-fed9-4756-e718-2190eb7d48ed"
      },
      "source": [
        "dit[\"key2\"]"
      ],
      "execution_count": 53,
      "outputs": [
        {
          "output_type": "execute_result",
          "data": {
            "text/plain": [
              "2.2"
            ]
          },
          "metadata": {
            "tags": []
          },
          "execution_count": 53
        }
      ]
    },
    {
      "cell_type": "code",
      "metadata": {
        "colab": {
          "base_uri": "https://localhost:8080/"
        },
        "id": "yScPBd1FZPq2",
        "outputId": "fbce9712-9d7e-4bb5-f806-f4c3621af8a5"
      },
      "source": [
        "ditrcd.get(\"age\")"
      ],
      "execution_count": 54,
      "outputs": [
        {
          "output_type": "execute_result",
          "data": {
            "text/plain": [
              "21"
            ]
          },
          "metadata": {
            "tags": []
          },
          "execution_count": 54
        }
      ]
    },
    {
      "cell_type": "code",
      "metadata": {
        "id": "gZ7-Ys0oZPq3"
      },
      "source": [
        "dit.clear()"
      ],
      "execution_count": 55,
      "outputs": []
    },
    {
      "cell_type": "code",
      "metadata": {
        "colab": {
          "base_uri": "https://localhost:8080/"
        },
        "id": "gx2c4jhgZPq3",
        "outputId": "aa61b393-d0f6-4e08-a36d-544bf948b4b7"
      },
      "source": [
        "dit"
      ],
      "execution_count": 56,
      "outputs": [
        {
          "output_type": "execute_result",
          "data": {
            "text/plain": [
              "{}"
            ]
          },
          "metadata": {
            "tags": []
          },
          "execution_count": 56
        }
      ]
    },
    {
      "cell_type": "code",
      "metadata": {
        "colab": {
          "base_uri": "https://localhost:8080/"
        },
        "id": "4mEUBR8yZPq4",
        "outputId": "51be8cae-3e1d-4291-9718-83f623fac447"
      },
      "source": [
        "dit"
      ],
      "execution_count": 57,
      "outputs": [
        {
          "output_type": "execute_result",
          "data": {
            "text/plain": [
              "{}"
            ]
          },
          "metadata": {
            "tags": []
          },
          "execution_count": 57
        }
      ]
    },
    {
      "cell_type": "code",
      "metadata": {
        "colab": {
          "base_uri": "https://localhost:8080/"
        },
        "id": "cIxU9Y0_ZPq4",
        "outputId": "efdeff4f-9e47-4128-db38-6f0180d31b79"
      },
      "source": [
        "ditrcd.items()"
      ],
      "execution_count": 58,
      "outputs": [
        {
          "output_type": "execute_result",
          "data": {
            "text/plain": [
              "dict_items([('Name', 'Arghyadeep'), ('age', 21), ('email', 'text.arghyadeep@gmail.com')])"
            ]
          },
          "metadata": {
            "tags": []
          },
          "execution_count": 58
        }
      ]
    },
    {
      "cell_type": "code",
      "metadata": {
        "id": "EUOF3wZFZPq6"
      },
      "source": [
        "ditrcd.setdefault(\"key1\")"
      ],
      "execution_count": 60,
      "outputs": []
    },
    {
      "cell_type": "code",
      "metadata": {
        "colab": {
          "base_uri": "https://localhost:8080/"
        },
        "id": "mjjHVJFhZPq6",
        "outputId": "448456a3-17f8-469e-9eb2-7b38799e1522"
      },
      "source": [
        "ditrcd"
      ],
      "execution_count": 61,
      "outputs": [
        {
          "output_type": "execute_result",
          "data": {
            "text/plain": [
              "{'Name': 'Arghyadeep',\n",
              " 'age': 21,\n",
              " 'email': 'text.arghyadeep@gmail.com',\n",
              " 'key1': None}"
            ]
          },
          "metadata": {
            "tags": []
          },
          "execution_count": 61
        }
      ]
    },
    {
      "cell_type": "code",
      "metadata": {
        "id": "c8nN2FoBZPq7"
      },
      "source": [
        "ditrcd.update(ditrcd)"
      ],
      "execution_count": 62,
      "outputs": []
    },
    {
      "cell_type": "code",
      "metadata": {
        "colab": {
          "base_uri": "https://localhost:8080/"
        },
        "id": "Rs8QCL1vZPq7",
        "outputId": "3e4ee7f7-edb6-4f57-f96e-f321de1dcdfa"
      },
      "source": [
        "dit"
      ],
      "execution_count": 63,
      "outputs": [
        {
          "output_type": "execute_result",
          "data": {
            "text/plain": [
              "{}"
            ]
          },
          "metadata": {
            "tags": []
          },
          "execution_count": 63
        }
      ]
    },
    {
      "cell_type": "code",
      "metadata": {
        "colab": {
          "base_uri": "https://localhost:8080/"
        },
        "id": "1Fr7An1TZPq7",
        "outputId": "ec9e916b-a008-4921-f2d1-c6714843ff76"
      },
      "source": [
        "ditrcd"
      ],
      "execution_count": 64,
      "outputs": [
        {
          "output_type": "execute_result",
          "data": {
            "text/plain": [
              "{'Name': 'Arghyadeep',\n",
              " 'age': 21,\n",
              " 'email': 'text.arghyadeep@gmail.com',\n",
              " 'key1': None}"
            ]
          },
          "metadata": {
            "tags": []
          },
          "execution_count": 64
        }
      ]
    },
    {
      "cell_type": "code",
      "metadata": {
        "id": "rj_4Qug4ZPq8"
      },
      "source": [
        ""
      ],
      "execution_count": 64,
      "outputs": []
    }
  ]
}